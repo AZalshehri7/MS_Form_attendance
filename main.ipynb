{
 "cells": [
  {
   "cell_type": "code",
   "execution_count": 1,
   "metadata": {},
   "outputs": [],
   "source": [
    "import pandas as pd\n",
    "import numpy as np\n",
    "import datetime as dt"
   ]
  },
  {
   "cell_type": "code",
   "execution_count": 2,
   "metadata": {},
   "outputs": [],
   "source": [
    "# Read data\n",
    "df = pd.read_csv('data.csv', usecols=['Start time', 'Email','Name', 'Attendance'])"
   ]
  },
  {
   "cell_type": "code",
   "execution_count": 3,
   "metadata": {},
   "outputs": [],
   "source": [
    "# Convert Start time and remove duplicates\n",
    "df['Start time'] = pd.to_datetime(df['Start time']).dt.normalize()  # use midnight time\n",
    "df = df.drop_duplicates(['Email', 'Start time'])"
   ]
  },
  {
   "cell_type": "code",
   "execution_count": 4,
   "metadata": {},
   "outputs": [],
   "source": [
    "# Convert Attendance to boolean for next step\n",
    "df['Attendance'] = df['Attendance'].replace('Present', True)"
   ]
  },
  {
   "cell_type": "code",
   "execution_count": 5,
   "metadata": {},
   "outputs": [],
   "source": [
    "# Make the attendance table\n",
    "table = pd.pivot_table(df, values='Attendance', index=['Name', 'Email'], columns=['Start time'], fill_value=False)\n",
    "table.columns = table.columns.strftime('%a, %d %b %y')  # format date"
   ]
  },
  {
   "cell_type": "code",
   "execution_count": 8,
   "metadata": {},
   "outputs": [],
   "source": [
    "# Bonus: Calculate attended days, Total and Percentage\n",
    "# we need to exclude 'Total' and 'Percent' from columns otherwise they will be added everytime\n",
    "columns = table.drop(['Total', 'Percent'], axis=1, errors='ignore').columns.tolist()\n",
    "table['Total'] = table[columns].sum(axis=1)\n",
    "table['Percent'] = table['Total'] / len(columns) *100"
   ]
  },
  {
   "cell_type": "code",
   "execution_count": 9,
   "metadata": {},
   "outputs": [
    {
     "output_type": "execute_result",
     "data": {
      "text/plain": "Start time   Sun, 14 Jun 20 Mon, 15 Jun 20  Total  Percent\nName  Email                                               \nName1 Email1           True          False    1.0     50.0\nName2 Email2          False           True    1.0     50.0",
      "text/html": "<div>\n<style scoped>\n    .dataframe tbody tr th:only-of-type {\n        vertical-align: middle;\n    }\n\n    .dataframe tbody tr th {\n        vertical-align: top;\n    }\n\n    .dataframe thead th {\n        text-align: right;\n    }\n</style>\n<table border=\"1\" class=\"dataframe\">\n  <thead>\n    <tr style=\"text-align: right;\">\n      <th></th>\n      <th>Start time</th>\n      <th>Sun, 14 Jun 20</th>\n      <th>Mon, 15 Jun 20</th>\n      <th>Total</th>\n      <th>Percent</th>\n    </tr>\n    <tr>\n      <th>Name</th>\n      <th>Email</th>\n      <th></th>\n      <th></th>\n      <th></th>\n      <th></th>\n    </tr>\n  </thead>\n  <tbody>\n    <tr>\n      <th>Name1</th>\n      <th>Email1</th>\n      <td>True</td>\n      <td>False</td>\n      <td>1.0</td>\n      <td>50.0</td>\n    </tr>\n    <tr>\n      <th>Name2</th>\n      <th>Email2</th>\n      <td>False</td>\n      <td>True</td>\n      <td>1.0</td>\n      <td>50.0</td>\n    </tr>\n  </tbody>\n</table>\n</div>"
     },
     "metadata": {},
     "execution_count": 9
    }
   ],
   "source": [
    "# Export the table\n",
    "table.to_csv('attendance.csv')\n",
    "table"
   ]
  }
 ],
 "metadata": {
  "kernelspec": {
   "display_name": "Python 3",
   "language": "python",
   "name": "python3"
  },
  "language_info": {
   "codemirror_mode": {
    "name": "ipython",
    "version": 3
   },
   "file_extension": ".py",
   "mimetype": "text/x-python",
   "name": "python",
   "nbconvert_exporter": "python",
   "pygments_lexer": "ipython3",
   "version": "3.8.2"
  }
 },
 "nbformat": 4,
 "nbformat_minor": 4
}